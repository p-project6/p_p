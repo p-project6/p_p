{
 "cells": [
  {
   "cell_type": "code",
   "execution_count": null,
   "id": "ad7cc4a1",
   "metadata": {},
   "outputs": [],
   "source": [
    "import numpy as np\n",
    "import pandas as pd\n",
    "import matplotlib.pyplot as plt\n",
    "from scipy import signal\n",
    "from heartpy import filter_signal\n",
    "import os"
   ]
  },
  {
   "cell_type": "code",
   "execution_count": null,
   "id": "da8ef022",
   "metadata": {},
   "outputs": [],
   "source": [
    "for i in range(1,101):\n",
    "    os.makedirs('DownSampling/{}'.format(i))"
   ]
  },
  {
   "cell_type": "markdown",
   "id": "ba7e504b",
   "metadata": {},
   "source": [
    "# 다운샘플링\n",
    "195번째마다 데이터 가져오기"
   ]
  },
  {
   "cell_type": "code",
   "execution_count": null,
   "id": "c238c5e3",
   "metadata": {},
   "outputs": [],
   "source": [
    "def down(a,b):\n",
    "    df = pd.read_csv(\"심전도DB/{}/{}.csv\".format(a,b),header=None)\n",
    "\n",
    "    length = int(len(df)/195) + 1\n",
    "    d =[]\n",
    "    \n",
    "    for i in range(length): \n",
    "        d.append(df[1][i*195])\n",
    "        \n",
    "    d = pd.Series(d)\n",
    "    d.to_csv('DownSampling/{}/{}.csv'.format(a,b), header=False)"
   ]
  },
  {
   "cell_type": "code",
   "execution_count": null,
   "id": "4b7b9ce6",
   "metadata": {},
   "outputs": [],
   "source": [
    "# 1차 : i - (1,87), j-(1,51) / 2차 : i - (86,101), j-(1,61)\n",
    "for i in range(1,101):\n",
    "    for j in range(1,61):\n",
    "        down(i,j)"
   ]
  },
  {
   "cell_type": "code",
   "execution_count": null,
   "id": "20d74ddd",
   "metadata": {},
   "outputs": [],
   "source": [
    "df = pd.read_csv(\"심전도DB/86/51.csv\",header=None)\n",
    "\n",
    "length = int(len(df)/195)\n",
    "d =[]\n",
    "for i in range(length): \n",
    "    d.append(df[1][i*195])\n",
    "    \n",
    "d = pd.Series(d)\n",
    "d.to_csv('DownSampling/86/51.csv', header=False)"
   ]
  },
  {
   "cell_type": "code",
   "execution_count": null,
   "id": "41825e92",
   "metadata": {},
   "outputs": [],
   "source": [
    "for i in range(86,87):\n",
    "    for j in range(52,61):\n",
    "        down(i,j)"
   ]
  },
  {
   "cell_type": "markdown",
   "id": "328530c1",
   "metadata": {},
   "source": [
    "## 저장한 데이터 불러오기"
   ]
  },
  {
   "cell_type": "code",
   "execution_count": null,
   "id": "c433ce40",
   "metadata": {},
   "outputs": [],
   "source": [
    "dff = pd.read_csv(\"d.csv\",header=None)"
   ]
  },
  {
   "cell_type": "markdown",
   "id": "d09b995d",
   "metadata": {},
   "source": [
    "# bandpass"
   ]
  },
  {
   "cell_type": "code",
   "execution_count": null,
   "id": "a12e2911",
   "metadata": {},
   "outputs": [],
   "source": [
    "for i in range(1,101):\n",
    "    os.makedirs('BandPass/{}'.format(i))"
   ]
  },
  {
   "cell_type": "code",
   "execution_count": null,
   "id": "4547afe4",
   "metadata": {},
   "outputs": [],
   "source": [
    "for a in range(1,101):\n",
    "    df = pd.read_csv('DownSampling/{}/1.csv'.format(a), header=None)\n",
    "\n",
    "    bp = filter_signal(df[1], cutoff=[0.5,40], sample_rate=500, order=5, filtertype='bandpass')\n",
    "    f = pd.DataFrame(bp, columns=[\"1\"])\n",
    "    \n",
    "    for b in range(2,61):\n",
    "        f[b] = filter_signal(df[1], cutoff=[0.5,40], sample_rate=500, order=5, filtertype='bandpass')\n",
    "            \n",
    "    f.to_csv('BandPass/{}/{}_band.csv'.format(a,a), index=False)\n",
    "    "
   ]
  },
  {
   "cell_type": "code",
   "execution_count": null,
   "id": "a57a7147",
   "metadata": {},
   "outputs": [],
   "source": [
    "df = pd.read_csv(\"BandPass/1/1_band.csv\")\n",
    "df"
   ]
  }
 ],
 "metadata": {
  "kernelspec": {
   "display_name": "Python 3 (ipykernel)",
   "language": "python",
   "name": "python3"
  },
  "language_info": {
   "codemirror_mode": {
    "name": "ipython",
    "version": 3
   },
   "file_extension": ".py",
   "mimetype": "text/x-python",
   "name": "python",
   "nbconvert_exporter": "python",
   "pygments_lexer": "ipython3",
   "version": "3.9.13"
  }
 },
 "nbformat": 4,
 "nbformat_minor": 5
}
