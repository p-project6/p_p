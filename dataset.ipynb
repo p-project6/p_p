{
 "cells": [
  {
   "cell_type": "code",
   "execution_count": null,
   "id": "77e9ba44",
   "metadata": {},
   "outputs": [],
   "source": [
    "import numpy as np\n",
    "import pandas as pd\n",
    "import os"
   ]
  },
  {
   "cell_type": "code",
   "execution_count": null,
   "id": "1c2b5dcb",
   "metadata": {},
   "outputs": [],
   "source": [
    "os.makedirs('model/band')\n",
    "os.makedirs('model/high')\n",
    "os.makedirs('model/low')\n",
    "\n",
    "os.makedirs('model_line/band')\n",
    "os.makedirs('model_line/high')\n",
    "os.makedirs('model_line/low')"
   ]
  },
  {
   "cell_type": "markdown",
   "id": "5982b511",
   "metadata": {},
   "source": [
    "# Train"
   ]
  },
  {
   "cell_type": "code",
   "execution_count": null,
   "id": "dda82e2c",
   "metadata": {},
   "outputs": [],
   "source": [
    "dff = pd.DataFrame()\n",
    "for a in range(1,101):    \n",
    "    for i in range(1,61):\n",
    "        for j in range(1,5):\n",
    "            df = pd.read_csv('dataDivision/band/{}/{}/{}.csv'.format(a,i,j), header=None)\n",
    "            index = (((i-1)*4)+j-1)+240*(a-1)\n",
    "            dff[index] = pd.DataFrame(df)\n",
    "dff.to_csv('model/band/train_band.csv', index=False, header=False)\n",
    "dff.T.to_csv('model_line/band/train_band_line.csv', index=False, header=False)"
   ]
  },
  {
   "cell_type": "code",
   "execution_count": null,
   "id": "9e48c8a4",
   "metadata": {},
   "outputs": [],
   "source": [
    "dff = pd.DataFrame()\n",
    "for a in range(1,101):    \n",
    "    for i in range(1,61):\n",
    "        for j in range(1,5):\n",
    "            df = pd.read_csv('dataDivision/high/{}/{}/{}.csv'.format(a,i,j), header=None)\n",
    "            index = (((i-1)*4)+j-1)+240*(a-1)\n",
    "            dff[index] = pd.DataFrame(df)\n",
    "dff.to_csv('model/high/train_high.csv', index=False, header=False)\n",
    "dff.T.to_csv('model_line/high/train_high_line.csv', index=False, header=False)"
   ]
  },
  {
   "cell_type": "code",
   "execution_count": null,
   "id": "282810a6",
   "metadata": {},
   "outputs": [],
   "source": [
    "dff = pd.DataFrame()\n",
    "for a in range(1,101):    \n",
    "    for i in range(1,61):\n",
    "        for j in range(1,5):\n",
    "            df = pd.read_csv('dataDivision/low/{}/{}/{}.csv'.format(a,i,j), header=None)\n",
    "            index = (((i-1)*4)+j-1)+240*(a-1)\n",
    "            dff[index] = pd.DataFrame(df)\n",
    "dff.to_csv('model/low/train_low.csv', index=False, header=False)\n",
    "dff.T.to_csv('model_line/low/train_low_line.csv', index=False, header=False)"
   ]
  },
  {
   "cell_type": "markdown",
   "id": "a67b8af2",
   "metadata": {},
   "source": [
    "# Validation"
   ]
  },
  {
   "cell_type": "code",
   "execution_count": null,
   "id": "be42506a",
   "metadata": {},
   "outputs": [],
   "source": [
    "dff = pd.DataFrame()\n",
    "for a in range(1,101):    \n",
    "    for i in range(1,61):\n",
    "        df = pd.read_csv('dataDivision/band/{}/{}/5.csv'.format(a,i), header=None)\n",
    "        index = (((i-1)*4)+j-1)+240*(a-1)\n",
    "        dff[index] = pd.DataFrame(df)\n",
    "dff.to_csv('model/band/valid_band.csv', index=False, header=False)\n",
    "dff.T.to_csv('model_line/band/valid_band_line.csv', index=False, header=False)"
   ]
  },
  {
   "cell_type": "code",
   "execution_count": null,
   "id": "b0873f94",
   "metadata": {},
   "outputs": [],
   "source": [
    "dff = pd.DataFrame()\n",
    "for a in range(1,101):    \n",
    "    for i in range(1,61):\n",
    "        df = pd.read_csv('dataDivision/high/{}/{}/5.csv'.format(a,i), header=None)\n",
    "        index = (((i-1)*4)+j-1)+240*(a-1)\n",
    "        dff[index] = pd.DataFrame(df)\n",
    "dff.to_csv('model/high/valid_high.csv', index=False, header=False)\n",
    "dff.T.to_csv('model_line/high/valid_high_line.csv', index=False, header=False)"
   ]
  },
  {
   "cell_type": "code",
   "execution_count": null,
   "id": "48d65ed4",
   "metadata": {},
   "outputs": [],
   "source": [
    "dff = pd.DataFrame()\n",
    "for a in range(1,101):    \n",
    "    for i in range(1,61):\n",
    "        df = pd.read_csv('dataDivision/low/{}/{}/5.csv'.format(a,i), header=None)\n",
    "        index = (((i-1)*4)+j-1)+240*(a-1)\n",
    "        dff[index] = pd.DataFrame(df)\n",
    "dff.to_csv('model/low/valid_low.csv', index=False, header=False)\n",
    "dff.T.to_csv('model_line/low/valid_low_line.csv', index=False, header=False)"
   ]
  },
  {
   "cell_type": "markdown",
   "id": "7815490b",
   "metadata": {},
   "source": [
    "# Test"
   ]
  },
  {
   "cell_type": "code",
   "execution_count": null,
   "id": "8a02bc70",
   "metadata": {},
   "outputs": [],
   "source": [
    "dff = pd.DataFrame()\n",
    "for a in range(1,101):    \n",
    "    for i in range(1,61):\n",
    "        df = pd.read_csv('dataDivision/band/{}/{}/6.csv'.format(a,i), header=None)\n",
    "        index = (((i-1)*4)+j-1)+240*(a-1)\n",
    "        dff[index] = pd.DataFrame(df)\n",
    "dff.to_csv('model/band/test_band.csv', index=False, header=False)\n",
    "dff.T.to_csv('model_line/band/test_band_line.csv', index=False, header=False)"
   ]
  },
  {
   "cell_type": "code",
   "execution_count": null,
   "id": "a7fe2809",
   "metadata": {},
   "outputs": [],
   "source": [
    "dff = pd.DataFrame()\n",
    "for a in range(1,101):    \n",
    "    for i in range(1,61):\n",
    "        df = pd.read_csv('dataDivision/high/{}/{}/6.csv'.format(a,i), header=None)\n",
    "        index = (((i-1)*4)+j-1)+240*(a-1)\n",
    "        dff[index] = pd.DataFrame(df)\n",
    "dff.to_csv('model/high/test_high.csv', index=False, header=False)\n",
    "dff.T.to_csv('model_line/high/test_high_line.csv', index=False, header=False)"
   ]
  },
  {
   "cell_type": "code",
   "execution_count": null,
   "id": "566bd923",
   "metadata": {},
   "outputs": [],
   "source": [
    "dff = pd.DataFrame()\n",
    "for a in range(1,101):    \n",
    "    for i in range(1,61):\n",
    "        df = pd.read_csv('dataDivision/low/{}/{}/6.csv'.format(a,i), header=None)\n",
    "        index = (((i-1)*4)+j-1)+240*(a-1)\n",
    "        dff[index] = pd.DataFrame(df)\n",
    "dff.to_csv('model/low/test_low.csv', index=False, header=False)\n",
    "dff.T.to_csv('model_line/low/test_low_line.csv', index=False, header=False)"
   ]
  }
 ],
 "metadata": {
  "kernelspec": {
   "display_name": "Python 3 (ipykernel)",
   "language": "python",
   "name": "python3"
  },
  "language_info": {
   "codemirror_mode": {
    "name": "ipython",
    "version": 3
   },
   "file_extension": ".py",
   "mimetype": "text/x-python",
   "name": "python",
   "nbconvert_exporter": "python",
   "pygments_lexer": "ipython3",
   "version": "3.9.15"
  }
 },
 "nbformat": 4,
 "nbformat_minor": 5
}
