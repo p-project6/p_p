{
 "cells": [
  {
   "cell_type": "code",
   "execution_count": 37,
   "id": "3eae1760",
   "metadata": {},
   "outputs": [
    {
     "data": {
      "text/html": [
       "<div>\n",
       "<style scoped>\n",
       "    .dataframe tbody tr th:only-of-type {\n",
       "        vertical-align: middle;\n",
       "    }\n",
       "\n",
       "    .dataframe tbody tr th {\n",
       "        vertical-align: top;\n",
       "    }\n",
       "\n",
       "    .dataframe thead th {\n",
       "        text-align: right;\n",
       "    }\n",
       "</style>\n",
       "<table border=\"1\" class=\"dataframe\">\n",
       "  <thead>\n",
       "    <tr style=\"text-align: right;\">\n",
       "      <th></th>\n",
       "      <th>0</th>\n",
       "      <th>1</th>\n",
       "    </tr>\n",
       "  </thead>\n",
       "  <tbody>\n",
       "    <tr>\n",
       "      <th>0</th>\n",
       "      <td>-5.00002</td>\n",
       "      <td>1.69717</td>\n",
       "    </tr>\n",
       "    <tr>\n",
       "      <th>1</th>\n",
       "      <td>-5.00000</td>\n",
       "      <td>1.69256</td>\n",
       "    </tr>\n",
       "    <tr>\n",
       "      <th>2</th>\n",
       "      <td>-4.99998</td>\n",
       "      <td>1.71417</td>\n",
       "    </tr>\n",
       "    <tr>\n",
       "      <th>3</th>\n",
       "      <td>-4.99996</td>\n",
       "      <td>1.70554</td>\n",
       "    </tr>\n",
       "    <tr>\n",
       "      <th>4</th>\n",
       "      <td>-4.99994</td>\n",
       "      <td>1.71812</td>\n",
       "    </tr>\n",
       "    <tr>\n",
       "      <th>...</th>\n",
       "      <td>...</td>\n",
       "      <td>...</td>\n",
       "    </tr>\n",
       "    <tr>\n",
       "      <th>499998</th>\n",
       "      <td>4.99994</td>\n",
       "      <td>2.23057</td>\n",
       "    </tr>\n",
       "    <tr>\n",
       "      <th>499999</th>\n",
       "      <td>4.99996</td>\n",
       "      <td>2.23518</td>\n",
       "    </tr>\n",
       "    <tr>\n",
       "      <th>500000</th>\n",
       "      <td>4.99998</td>\n",
       "      <td>2.22859</td>\n",
       "    </tr>\n",
       "    <tr>\n",
       "      <th>500001</th>\n",
       "      <td>5.00000</td>\n",
       "      <td>2.20054</td>\n",
       "    </tr>\n",
       "    <tr>\n",
       "      <th>500002</th>\n",
       "      <td>5.00002</td>\n",
       "      <td>2.21654</td>\n",
       "    </tr>\n",
       "  </tbody>\n",
       "</table>\n",
       "<p>500003 rows × 2 columns</p>\n",
       "</div>"
      ],
      "text/plain": [
       "              0        1\n",
       "0      -5.00002  1.69717\n",
       "1      -5.00000  1.69256\n",
       "2      -4.99998  1.71417\n",
       "3      -4.99996  1.70554\n",
       "4      -4.99994  1.71812\n",
       "...         ...      ...\n",
       "499998  4.99994  2.23057\n",
       "499999  4.99996  2.23518\n",
       "500000  4.99998  2.22859\n",
       "500001  5.00000  2.20054\n",
       "500002  5.00002  2.21654\n",
       "\n",
       "[500003 rows x 2 columns]"
      ]
     },
     "execution_count": 37,
     "metadata": {},
     "output_type": "execute_result"
    }
   ],
   "source": [
    "import pandas as pd\n",
    "import matplotlib.pyplot as plt\n",
    "from scipy.io import wavfile\n",
    "from scipy import signal\n",
    "import numpy as np\n",
    "import os\n",
    "import csv\n",
    "from scipy.signal import butter\n",
    "\n",
    "label=[]\n",
    "data=[]\n",
    "\n",
    "a= pd.read_csv(\"심전도DB/1/1.csv\",header=None)\n",
    "df = pd.DataFrame(a)\n",
    "\n",
    "# for row_index, row in a.iterrows():    \n",
    "#     label.append(row.loc[1]) #row.ix[0] 더 이상 지원하지 않는다.    \n",
    "#     other_data=[]\n",
    "#     for v in row.loc[0]: \n",
    "#         other_data.append(v)\n",
    "#     data.append(other_data)\n",
    "df"
   ]
  },
  {
   "cell_type": "code",
   "execution_count": 38,
   "id": "f8b9ae8b",
   "metadata": {},
   "outputs": [
    {
     "data": {
      "text/plain": [
       "0         1.69717\n",
       "1         1.69256\n",
       "2         1.71417\n",
       "3         1.70554\n",
       "4         1.71812\n",
       "           ...   \n",
       "499998    2.23057\n",
       "499999    2.23518\n",
       "500000    2.22859\n",
       "500001    2.20054\n",
       "500002    2.21654\n",
       "Name: 1, Length: 500003, dtype: float64"
      ]
     },
     "execution_count": 38,
     "metadata": {},
     "output_type": "execute_result"
    }
   ],
   "source": [
    "list=df[1]\n",
    "list"
   ]
  },
  {
   "cell_type": "code",
   "execution_count": 39,
   "id": "812da26a",
   "metadata": {},
   "outputs": [
    {
     "data": {
      "text/plain": [
       "<AxesSubplot:>"
      ]
     },
     "execution_count": 39,
     "metadata": {},
     "output_type": "execute_result"
    },
    {
     "data": {
      "image/png": "[encoded data removed]",
      "text/plain": [
       "<Figure size 432x288 with 1 Axes>"
      ]
     },
     "metadata": {
      "needs_background": "light"
     },
     "output_type": "display_data"
    }
   ],
   "source": [
    "list.plot()"
   ]
  },
  {
   "cell_type": "code",
   "execution_count": 55,
   "id": "0fdfc698",
   "metadata": {},
   "outputs": [
    {
     "data": {
      "text/plain": [
       "array([0.000000e+00, 2.000000e-05, 4.000000e-05, ..., 1.000000e+01,\n",
       "       1.000002e+01, 1.000004e+01])"
      ]
     },
     "execution_count": 55,
     "metadata": {},
     "output_type": "execute_result"
    }
   ],
   "source": [
    "list1=np.arange(0,10.00006, 0.00002)\n",
    "len(list1)\n",
    "list1"
   ]
  },
  {
   "cell_type": "code",
   "execution_count": 56,
   "id": "1d1274a4",
   "metadata": {},
   "outputs": [
    {
     "data": {
      "text/plain": [
       "array([1.69717, 1.69256, 1.71417, ..., 2.22859, 2.20054, 2.21654])"
      ]
     },
     "execution_count": 56,
     "metadata": {},
     "output_type": "execute_result"
    }
   ],
   "source": [
    "list.values"
   ]
  },
  {
   "cell_type": "code",
   "execution_count": 57,
   "id": "e8cb419c",
   "metadata": {},
   "outputs": [
    {
     "data": {
      "text/plain": [
       "0.00000     1.69717\n",
       "0.00002     1.69256\n",
       "0.00004     1.71417\n",
       "0.00006     1.70554\n",
       "0.00008     1.71812\n",
       "             ...   \n",
       "9.99996     2.23057\n",
       "9.99998     2.23518\n",
       "10.00000    2.22859\n",
       "10.00002    2.20054\n",
       "10.00004    2.21654\n",
       "Name: data, Length: 500003, dtype: float64"
      ]
     },
     "execution_count": 57,
     "metadata": {},
     "output_type": "execute_result"
    }
   ],
   "source": [
    "transfer=pd.Series(list.values, index=list1, name='data')\n",
    "transfer"
   ]
  },
  {
   "cell_type": "code",
   "execution_count": 58,
   "id": "c23f1d34",
   "metadata": {},
   "outputs": [
    {
     "data": {
      "text/plain": [
       "<AxesSubplot:>"
      ]
     },
     "execution_count": 58,
     "metadata": {},
     "output_type": "execute_result"
    },
    {
     "data": {
      "image/png": "[encoded data removed]",
      "text/plain": [
       "<Figure size 432x288 with 1 Axes>"
      ]
     },
     "metadata": {
      "needs_background": "light"
     },
     "output_type": "display_data"
    }
   ],
   "source": [
    "transfer.plot()"
   ]
  },
  {
   "cell_type": "markdown",
   "id": "782bfecc",
   "metadata": {},
   "source": [
    "## 대역필터 첫번째 방법(signal.firwin)"
   ]
  },
  {
   "cell_type": "code",
   "execution_count": 61,
   "id": "e03979ae",
   "metadata": {},
   "outputs": [],
   "source": [
    "b=signal.firwin(101, cutoff=[0.05,40], fs=50003, pass_zero='bandpass')\n",
    "x1 = signal.lfilter(b,[1.0], transfer)"
   ]
  },
  {
   "cell_type": "code",
   "execution_count": 62,
   "id": "94d0b908",
   "metadata": {},
   "outputs": [
    {
     "data": {
      "image/png": "[encoded data removed]",
      "text/plain": [
       "<Figure size 432x288 with 1 Axes>"
      ]
     },
     "metadata": {
      "needs_background": "light"
     },
     "output_type": "display_data"
    }
   ],
   "source": [
    "fig, ax1 = plt.subplots()\n",
    "ax1.plot(list1, x1, color='b')\n",
    "\n",
    "ax1.set_ylabel(\"Amplitude\")\n",
    "ax1.set_xlabel(\"Time[s]\")\n",
    "plt.title(\"BPF\")\n",
    "plt.show()"
   ]
  },
  {
   "cell_type": "code",
   "execution_count": 67,
   "id": "7cfefa0b",
   "metadata": {},
   "outputs": [
    {
     "data": {
      "image/png": "[encoded data removed]",
      "text/plain": [
       "<Figure size 432x288 with 1 Axes>"
      ]
     },
     "metadata": {
      "needs_background": "light"
     },
     "output_type": "display_data"
    }
   ],
   "source": [
    "plt.plot(list1, list.values, color=\"r\",label=\"before\")\n",
    "plt.plot(list1, x1, color='b', label=\"after\")\n",
    "\n",
    "\n",
    "# ax1.set_ylabel(\"Amplitude\")\n",
    "# ax1.set_xlabel(\"Time[s]\")\n",
    "plt.legend()\n",
    "plt.show()"
   ]
  },
  {
   "cell_type": "markdown",
   "id": "0af6fcf7",
   "metadata": {},
   "source": [
    "## 두번째 방법"
   ]
  },
  {
   "cell_type": "code",
   "execution_count": null,
   "id": "b42d1edf",
   "metadata": {},
   "outputs": [],
   "source": [
    "mat_file = scipy.io.loadmat('signal1.mat')\n",
    "(file_path, file_id) = os.path.split('signal1.mat')  # file path, file name\n",
    "\n",
    "fs = 50003  # sample rate\n",
    "order = 101  # order\n",
    "#cut_off_freq = 150  # cut off frequency\n",
    "\n",
    "# raw signal\n",
    "# t = np.linspace(0, 1, fs, False)  # 1 second\n",
    "# sig = np.sin(2*np.pi*100*t) + np.sin(2*np.pi*50*t)  # signal\n",
    "sig = mat_file[file_id[:-4]][0]\n",
    "\n",
    "freq = np.fft.fftfreq(len(sig), 1/1024)\n",
    "\n",
    "# filtered signal\n",
    "sos = signal.butter(order, [cut_off_freq], 'low', fs=fs, output='sos')  # low pass filter\n",
    "filtered = signal.sosfilt(sos, sig)\n",
    "\n",
    "# raw signal fft\n",
    "raw_fft = np.fft.fft(sig) / len(sig)\n",
    "raw_fft_abs = abs(raw_fft)\n",
    "\n",
    "# filter signal fft\n",
    "filtered_fft = np.fft.fft(filtered) / len(filtered)\n",
    "filtered_fft_abs = abs(filtered_fft)\n",
    "\n",
    "# plot\n",
    "fig, ((ax00, ax01), (ax10, ax11)) = plt.subplots(2, 2)\n",
    "\n",
    "# raw signal plot : 0 row 0 column\n",
    "ax00.plot(t, sig)\n",
    "ax00.set_title('Raw Data Time Domain')\n",
    "ax00.set_xlabel('Time [seconds]')\n",
    "ax00.set_ylabel('Amplitude')\n",
    "\n",
    "# filtered signal plot : 1 row 0 column\n",
    "ax10.plot(t, filtered)\n",
    "ax10.set_title('Filtered Data Time Domain')\n",
    "ax10.set_xlabel('Time [seconds]')\n",
    "ax10.set_ylabel('Amplitude')\n",
    "\n",
    "# raw signal fft plot : 0 row 1 column\n",
    "ax01.stem(freq, raw_fft_abs, use_line_collection=True)\n",
    "ax01.set_title('Raw Data Frequency Domain')\n",
    "ax01.set_xlabel('Frequency [HZ]')\n",
    "ax01.set_ylabel('Amplitude')\n",
    "\n",
    "# filtered signal fft plot : 1 row column\n",
    "ax11.stem(freq,filtered_fft_abs, use_line_collection=True)\n",
    "ax11.set_title('Filtered Data Frequency Domain')\n",
    "ax11.set_xlabel('Frequency [HZ]')\n",
    "ax11.set_ylabel('Amplitude')\n",
    "\n",
    "# plot\n",
    "plt.tight_layout()\n",
    "plt.show()"
   ]
  },
  {
   "cell_type": "code",
   "execution_count": null,
   "id": "3192be85",
   "metadata": {},
   "outputs": [],
   "source": []
  },
  {
   "cell_type": "code",
   "execution_count": null,
   "id": "23390ce2",
   "metadata": {},
   "outputs": [],
   "source": [
    "\n",
    "def butter_bandpass(lowcut, highcut, fs, order=5):\n",
    "    nyq = 0.5 * fs\n",
    "    low = lowcut / nyq\n",
    "    high = highcut / nyq\n",
    "    b, a = butter(order, [low, high], btype='band')\n",
    "    return b, a\n",
    "\n",
    "\n",
    "def butter_bandpass_filter(data, lowcut, highcut, fs, order=5):\n",
    "    b, a = butter_bandpass(lowcut, highcut, fs, order=order)\n",
    "    y = lfilter(b, a, data)\n",
    "    return y\n",
    "\n",
    "\n",
    "# BPF setting ( 나머지 주파수는 자르고 40 ~ 100 hz 만 추출하겠다.)\n",
    "lowcut = 40.0\n",
    "highcut = 100.0\n",
    "    \n",
    "# BPF\n",
    "yy = butter_bandpass_filter(z, lowcut, highcut, Fs, order=5)\n",
    "\n",
    "# 1. 원 신호 Plot\n",
    "plt.plot(t, z, 'y', label='origin')\n",
    "\n",
    "# 2. 필터 적용된 Plot\n",
    "plt.plot(t, yy, 'b', label='filtered data')\n",
    "plt.legend()\n",
    "plt.show() \n",
    "    \n",
    "# 3. 필터 적용된 FFT Plot\n",
    "yf = np.fft.fft(yy) / N\n",
    "yf = yf[range(int(N/2))]\n",
    "\n",
    "plt.title(\"BPF\")\n",
    "plt.plot(freq, abs(yf), 'k')\n",
    "plt.xlim(0, Fs / 20)\n",
    "plt.show()"
   ]
  },
  {
   "cell_type": "code",
   "execution_count": 22,
   "id": "2dcb2b18",
   "metadata": {},
   "outputs": [],
   "source": [
    "#df.drop(2, axis = 'columns')"
   ]
  }
 ],
 "metadata": {
  "kernelspec": {
   "display_name": "Python 3",
   "language": "python",
   "name": "python3"
  },
  "language_info": {
   "codemirror_mode": {
    "name": "ipython",
    "version": 3
   },
   "file_extension": ".py",
   "mimetype": "text/x-python",
   "name": "python",
   "nbconvert_exporter": "python",
   "pygments_lexer": "ipython3",
   "version": "3.6.13"
  }
 },
 "nbformat": 4,
 "nbformat_minor": 5
}
