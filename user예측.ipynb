{
  "nbformat": 4,
  "nbformat_minor": 0,
  "metadata": {
    "colab": {
      "provenance": [],
      "toc_visible": true
    },
    "kernelspec": {
      "name": "python3",
      "display_name": "Python 3"
    },
    "language_info": {
      "name": "python"
    }
  },
  "cells": [
    {
      "cell_type": "code",
      "source": [
        "import pandas as pd\n",
        "import numpy as np\n",
        "import numpy as np\n",
        "from keras.utils.np_utils import to_categorical"
      ],
      "metadata": {
        "id": "6mdmWEaoHiWA"
      },
      "execution_count": 1,
      "outputs": []
    },
    {
      "cell_type": "code",
      "source": [
        "df = pd.read_csv('/content/drive/MyDrive/total_band.csv', header=None)\n",
        "df_shuffle = df.sample(frac=1)"
      ],
      "metadata": {
        "id": "rdykigWdXC2r"
      },
      "execution_count": 2,
      "outputs": []
    },
    {
      "cell_type": "code",
      "source": [
        "test = df_shuffle.iloc[30000:36000]\n",
        "X_test = test.iloc[:,:256]\n",
        "y_test = to_categorical(test[256])"
      ],
      "metadata": {
        "id": "a38IKLIfMymV"
      },
      "execution_count": 3,
      "outputs": []
    },
    {
      "cell_type": "code",
      "execution_count": 4,
      "metadata": {
        "colab": {
          "base_uri": "https://localhost:8080/"
        },
        "outputId": "4701fc32-641f-462f-96e0-895ce0ba1edd",
        "id": "rGaH_JYMMymV"
      },
      "outputs": [
        {
          "output_type": "stream",
          "name": "stdout",
          "text": [
            "188/188 [==============================] - 22s 115ms/step - loss: 8.4595e-05 - accuracy: 0.9947\n"
          ]
        }
      ],
      "source": [
        "from keras.models import load_model\n",
        "\n",
        "new_model = load_model('/content/drive/MyDrive/h5/bandpass.h5')\n",
        "loss, acc = new_model.evaluate(X_test, y_test)"
      ]
    },
    {
      "cell_type": "code",
      "source": [
        "user = pd.DataFrame(test[256].tolist(), columns=['user'] )\n",
        "user = user.reset_index()\n",
        "\n",
        "ecg = X_test.reset_index()\n",
        "predict_table = pd.concat([ecg.drop(labels = 'index', axis =1), user['user']], axis = 1)\n",
        "predict_table.head()"
      ],
      "metadata": {
        "colab": {
          "base_uri": "https://localhost:8080/",
          "height": 235
        },
        "id": "t2-OJt-8b83O",
        "outputId": "44a832b4-e692-4bb0-eb40-ba352f94aabe"
      },
      "execution_count": 5,
      "outputs": [
        {
          "output_type": "execute_result",
          "data": {
            "text/plain": [
              "          0         1         2         3         4         5         6  \\\n",
              "0 -0.038967 -0.039390 -0.039197 -0.038526 -0.037657 -0.036937 -0.036679   \n",
              "1 -0.047540 -0.056729 -0.064652 -0.070268 -0.072939 -0.072532 -0.069419   \n",
              "2 -0.049022 -0.046251 -0.041929 -0.036400 -0.030225 -0.024067 -0.018551   \n",
              "3  0.008292 -0.020773 -0.063268 -0.112893 -0.159853 -0.192115 -0.197485   \n",
              "4 -0.079762 -0.087181 -0.093179 -0.096695 -0.097309 -0.095447 -0.092402   \n",
              "\n",
              "          7         8         9  ...       247       248       249       250  \\\n",
              "0 -0.037074 -0.038141 -0.039718  ... -0.041220 -0.038086 -0.036818 -0.037587   \n",
              "1 -0.064385 -0.058464 -0.052736  ... -0.043756 -0.042083 -0.040067 -0.037277   \n",
              "2 -0.014130 -0.010980 -0.008957  ...  0.354869  0.159367 -0.044434 -0.230869   \n",
              "3 -0.166169 -0.093346  0.018896  ...  0.043957  0.046261  0.051567  0.060380   \n",
              "4 -0.090149 -0.090926 -0.096613  ...  0.106205  0.115670  0.122833  0.128289   \n",
              "\n",
              "        251       252       253       254       255  user  \n",
              "0 -0.040211 -0.044131 -0.048485 -0.052236 -0.054371    29  \n",
              "1 -0.033502 -0.028750 -0.023180 -0.016977 -0.010245    48  \n",
              "2 -0.378239 -0.472345 -0.508309 -0.490460 -0.430472     7  \n",
              "3  0.072551  0.087340  0.103594  0.119998  0.135329    32  \n",
              "4  0.133067  0.138366  0.145248  0.154378  0.165866    86  \n",
              "\n",
              "[5 rows x 257 columns]"
            ],
            "text/html": [
              "\n",
              "  <div id=\"df-c75fafce-81f0-4610-b0c5-2907520e0195\">\n",
              "    <div class=\"colab-df-container\">\n",
              "      <div>\n",
              "<style scoped>\n",
              "    .dataframe tbody tr th:only-of-type {\n",
              "        vertical-align: middle;\n",
              "    }\n",
              "\n",
              "    .dataframe tbody tr th {\n",
              "        vertical-align: top;\n",
              "    }\n",
              "\n",
              "    .dataframe thead th {\n",
              "        text-align: right;\n",
              "    }\n",
              "</style>\n",
              "<table border=\"1\" class=\"dataframe\">\n",
              "  <thead>\n",
              "    <tr style=\"text-align: right;\">\n",
              "      <th></th>\n",
              "      <th>0</th>\n",
              "      <th>1</th>\n",
              "      <th>2</th>\n",
              "      <th>3</th>\n",
              "      <th>4</th>\n",
              "      <th>5</th>\n",
              "      <th>6</th>\n",
              "      <th>7</th>\n",
              "      <th>8</th>\n",
              "      <th>9</th>\n",
              "      <th>...</th>\n",
              "      <th>247</th>\n",
              "      <th>248</th>\n",
              "      <th>249</th>\n",
              "      <th>250</th>\n",
              "      <th>251</th>\n",
              "      <th>252</th>\n",
              "      <th>253</th>\n",
              "      <th>254</th>\n",
              "      <th>255</th>\n",
              "      <th>user</th>\n",
              "    </tr>\n",
              "  </thead>\n",
              "  <tbody>\n",
              "    <tr>\n",
              "      <th>0</th>\n",
              "      <td>-0.038967</td>\n",
              "      <td>-0.039390</td>\n",
              "      <td>-0.039197</td>\n",
              "      <td>-0.038526</td>\n",
              "      <td>-0.037657</td>\n",
              "      <td>-0.036937</td>\n",
              "      <td>-0.036679</td>\n",
              "      <td>-0.037074</td>\n",
              "      <td>-0.038141</td>\n",
              "      <td>-0.039718</td>\n",
              "      <td>...</td>\n",
              "      <td>-0.041220</td>\n",
              "      <td>-0.038086</td>\n",
              "      <td>-0.036818</td>\n",
              "      <td>-0.037587</td>\n",
              "      <td>-0.040211</td>\n",
              "      <td>-0.044131</td>\n",
              "      <td>-0.048485</td>\n",
              "      <td>-0.052236</td>\n",
              "      <td>-0.054371</td>\n",
              "      <td>29</td>\n",
              "    </tr>\n",
              "    <tr>\n",
              "      <th>1</th>\n",
              "      <td>-0.047540</td>\n",
              "      <td>-0.056729</td>\n",
              "      <td>-0.064652</td>\n",
              "      <td>-0.070268</td>\n",
              "      <td>-0.072939</td>\n",
              "      <td>-0.072532</td>\n",
              "      <td>-0.069419</td>\n",
              "      <td>-0.064385</td>\n",
              "      <td>-0.058464</td>\n",
              "      <td>-0.052736</td>\n",
              "      <td>...</td>\n",
              "      <td>-0.043756</td>\n",
              "      <td>-0.042083</td>\n",
              "      <td>-0.040067</td>\n",
              "      <td>-0.037277</td>\n",
              "      <td>-0.033502</td>\n",
              "      <td>-0.028750</td>\n",
              "      <td>-0.023180</td>\n",
              "      <td>-0.016977</td>\n",
              "      <td>-0.010245</td>\n",
              "      <td>48</td>\n",
              "    </tr>\n",
              "    <tr>\n",
              "      <th>2</th>\n",
              "      <td>-0.049022</td>\n",
              "      <td>-0.046251</td>\n",
              "      <td>-0.041929</td>\n",
              "      <td>-0.036400</td>\n",
              "      <td>-0.030225</td>\n",
              "      <td>-0.024067</td>\n",
              "      <td>-0.018551</td>\n",
              "      <td>-0.014130</td>\n",
              "      <td>-0.010980</td>\n",
              "      <td>-0.008957</td>\n",
              "      <td>...</td>\n",
              "      <td>0.354869</td>\n",
              "      <td>0.159367</td>\n",
              "      <td>-0.044434</td>\n",
              "      <td>-0.230869</td>\n",
              "      <td>-0.378239</td>\n",
              "      <td>-0.472345</td>\n",
              "      <td>-0.508309</td>\n",
              "      <td>-0.490460</td>\n",
              "      <td>-0.430472</td>\n",
              "      <td>7</td>\n",
              "    </tr>\n",
              "    <tr>\n",
              "      <th>3</th>\n",
              "      <td>0.008292</td>\n",
              "      <td>-0.020773</td>\n",
              "      <td>-0.063268</td>\n",
              "      <td>-0.112893</td>\n",
              "      <td>-0.159853</td>\n",
              "      <td>-0.192115</td>\n",
              "      <td>-0.197485</td>\n",
              "      <td>-0.166169</td>\n",
              "      <td>-0.093346</td>\n",
              "      <td>0.018896</td>\n",
              "      <td>...</td>\n",
              "      <td>0.043957</td>\n",
              "      <td>0.046261</td>\n",
              "      <td>0.051567</td>\n",
              "      <td>0.060380</td>\n",
              "      <td>0.072551</td>\n",
              "      <td>0.087340</td>\n",
              "      <td>0.103594</td>\n",
              "      <td>0.119998</td>\n",
              "      <td>0.135329</td>\n",
              "      <td>32</td>\n",
              "    </tr>\n",
              "    <tr>\n",
              "      <th>4</th>\n",
              "      <td>-0.079762</td>\n",
              "      <td>-0.087181</td>\n",
              "      <td>-0.093179</td>\n",
              "      <td>-0.096695</td>\n",
              "      <td>-0.097309</td>\n",
              "      <td>-0.095447</td>\n",
              "      <td>-0.092402</td>\n",
              "      <td>-0.090149</td>\n",
              "      <td>-0.090926</td>\n",
              "      <td>-0.096613</td>\n",
              "      <td>...</td>\n",
              "      <td>0.106205</td>\n",
              "      <td>0.115670</td>\n",
              "      <td>0.122833</td>\n",
              "      <td>0.128289</td>\n",
              "      <td>0.133067</td>\n",
              "      <td>0.138366</td>\n",
              "      <td>0.145248</td>\n",
              "      <td>0.154378</td>\n",
              "      <td>0.165866</td>\n",
              "      <td>86</td>\n",
              "    </tr>\n",
              "  </tbody>\n",
              "</table>\n",
              "<p>5 rows × 257 columns</p>\n",
              "</div>\n",
              "      <button class=\"colab-df-convert\" onclick=\"convertToInteractive('df-c75fafce-81f0-4610-b0c5-2907520e0195')\"\n",
              "              title=\"Convert this dataframe to an interactive table.\"\n",
              "              style=\"display:none;\">\n",
              "        \n",
              "  <svg xmlns=\"http://www.w3.org/2000/svg\" height=\"24px\"viewBox=\"0 0 24 24\"\n",
              "       width=\"24px\">\n",
              "    <path d=\"M0 0h24v24H0V0z\" fill=\"none\"/>\n",
              "    <path d=\"M18.56 5.44l.94 2.06.94-2.06 2.06-.94-2.06-.94-.94-2.06-.94 2.06-2.06.94zm-11 1L8.5 8.5l.94-2.06 2.06-.94-2.06-.94L8.5 2.5l-.94 2.06-2.06.94zm10 10l.94 2.06.94-2.06 2.06-.94-2.06-.94-.94-2.06-.94 2.06-2.06.94z\"/><path d=\"M17.41 7.96l-1.37-1.37c-.4-.4-.92-.59-1.43-.59-.52 0-1.04.2-1.43.59L10.3 9.45l-7.72 7.72c-.78.78-.78 2.05 0 2.83L4 21.41c.39.39.9.59 1.41.59.51 0 1.02-.2 1.41-.59l7.78-7.78 2.81-2.81c.8-.78.8-2.07 0-2.86zM5.41 20L4 18.59l7.72-7.72 1.47 1.35L5.41 20z\"/>\n",
              "  </svg>\n",
              "      </button>\n",
              "      \n",
              "  <style>\n",
              "    .colab-df-container {\n",
              "      display:flex;\n",
              "      flex-wrap:wrap;\n",
              "      gap: 12px;\n",
              "    }\n",
              "\n",
              "    .colab-df-convert {\n",
              "      background-color: #E8F0FE;\n",
              "      border: none;\n",
              "      border-radius: 50%;\n",
              "      cursor: pointer;\n",
              "      display: none;\n",
              "      fill: #1967D2;\n",
              "      height: 32px;\n",
              "      padding: 0 0 0 0;\n",
              "      width: 32px;\n",
              "    }\n",
              "\n",
              "    .colab-df-convert:hover {\n",
              "      background-color: #E2EBFA;\n",
              "      box-shadow: 0px 1px 2px rgba(60, 64, 67, 0.3), 0px 1px 3px 1px rgba(60, 64, 67, 0.15);\n",
              "      fill: #174EA6;\n",
              "    }\n",
              "\n",
              "    [theme=dark] .colab-df-convert {\n",
              "      background-color: #3B4455;\n",
              "      fill: #D2E3FC;\n",
              "    }\n",
              "\n",
              "    [theme=dark] .colab-df-convert:hover {\n",
              "      background-color: #434B5C;\n",
              "      box-shadow: 0px 1px 3px 1px rgba(0, 0, 0, 0.15);\n",
              "      filter: drop-shadow(0px 1px 2px rgba(0, 0, 0, 0.3));\n",
              "      fill: #FFFFFF;\n",
              "    }\n",
              "  </style>\n",
              "\n",
              "      <script>\n",
              "        const buttonEl =\n",
              "          document.querySelector('#df-c75fafce-81f0-4610-b0c5-2907520e0195 button.colab-df-convert');\n",
              "        buttonEl.style.display =\n",
              "          google.colab.kernel.accessAllowed ? 'block' : 'none';\n",
              "\n",
              "        async function convertToInteractive(key) {\n",
              "          const element = document.querySelector('#df-c75fafce-81f0-4610-b0c5-2907520e0195');\n",
              "          const dataTable =\n",
              "            await google.colab.kernel.invokeFunction('convertToInteractive',\n",
              "                                                     [key], {});\n",
              "          if (!dataTable) return;\n",
              "\n",
              "          const docLinkHtml = 'Like what you see? Visit the ' +\n",
              "            '<a target=\"_blank\" href=https://colab.research.google.com/notebooks/data_table.ipynb>data table notebook</a>'\n",
              "            + ' to learn more about interactive tables.';\n",
              "          element.innerHTML = '';\n",
              "          dataTable['output_type'] = 'display_data';\n",
              "          await google.colab.output.renderOutput(dataTable, element);\n",
              "          const docLink = document.createElement('div');\n",
              "          docLink.innerHTML = docLinkHtml;\n",
              "          element.appendChild(docLink);\n",
              "        }\n",
              "      </script>\n",
              "    </div>\n",
              "  </div>\n",
              "  "
            ]
          },
          "metadata": {},
          "execution_count": 5
        }
      ]
    },
    {
      "cell_type": "code",
      "source": [
        "predict_table[\"user\"].head()"
      ],
      "metadata": {
        "colab": {
          "base_uri": "https://localhost:8080/"
        },
        "id": "AOxfHjRlUQwM",
        "outputId": "f06971f0-8e3f-45d6-a694-a6cad5a6fb6f"
      },
      "execution_count": 9,
      "outputs": [
        {
          "output_type": "execute_result",
          "data": {
            "text/plain": [
              "0    29\n",
              "1    48\n",
              "2     7\n",
              "3    32\n",
              "4    86\n",
              "Name: user, dtype: int64"
            ]
          },
          "metadata": {},
          "execution_count": 9
        }
      ]
    },
    {
      "cell_type": "code",
      "source": [
        "ECG = X_test.iloc[0].tolist()\n",
        "\n",
        "ECG = np.array(ECG)\n",
        "ECG = ECG.reshape(1,256,1)\n",
        "\n",
        "user_predict = new_model.predict(ECG, verbose=0) \n",
        "user_predict = user_predict.argmax(axis=-1)\n",
        "\n",
        "print(user_predict)"
      ],
      "metadata": {
        "colab": {
          "base_uri": "https://localhost:8080/"
        },
        "id": "peftOiKEfMZP",
        "outputId": "057ed56e-2c18-4e66-91f6-d26380fdbc93"
      },
      "execution_count": 13,
      "outputs": [
        {
          "output_type": "stream",
          "name": "stdout",
          "text": [
            "[29]\n"
          ]
        }
      ]
    },
    {
      "cell_type": "code",
      "source": [
        "for i in range(5):\n",
        "  ECG = X_test.iloc[i].tolist()\n",
        "\n",
        "  ECG = np.array(ECG)\n",
        "  ECG = ECG.reshape(1,256,1)\n",
        "\n",
        "  user_predict = new_model.predict(ECG, verbose=0) \n",
        "  user_predict = user_predict.argmax(axis=-1)\n",
        "\n",
        "  print(user_predict)"
      ],
      "metadata": {
        "colab": {
          "base_uri": "https://localhost:8080/"
        },
        "id": "-NFh09JMVSaj",
        "outputId": "03337ef9-d95b-47ce-eb85-3cdf1147e0ab"
      },
      "execution_count": 10,
      "outputs": [
        {
          "output_type": "stream",
          "name": "stdout",
          "text": [
            "[29]\n",
            "[48]\n",
            "[7]\n",
            "[32]\n",
            "[86]\n"
          ]
        }
      ]
    }
  ]
}