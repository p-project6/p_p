{
 "cells": [
  {
   "cell_type": "code",
   "execution_count": 46,
   "id": "ef415eb5",
   "metadata": {
    "scrolled": true
   },
   "outputs": [],
   "source": [
    "import numpy as np\n",
    "import pandas as pd\n",
    "import matplotlib.pyplot as plt\n",
    "from scipy import signal\n",
    "from heartpy import filter_signal\n",
    "import os"
   ]
  },
  {
   "cell_type": "markdown",
   "id": "1f953d34",
   "metadata": {},
   "source": [
    "## 1.데이터 분할"
   ]
  },
  {
   "cell_type": "code",
   "execution_count": 18,
   "id": "ee2f114b",
   "metadata": {},
   "outputs": [],
   "source": [
    "for k in range(1,101):\n",
    "    df = pd.read_csv(\"BandPass/{}/{}_band.csv\".format(k,k))\n",
    "    for j in range(1,61):\n",
    "        index=str(j)\n",
    "        if index in df.columns:\n",
    "            os.makedirs('dataDivision/{}/{}'.format(k,j), exist_ok=True)\n",
    "            for i in range (0,6):\n",
    "                num=256*i\n",
    "                a=df.truncate(before=num, after=num+255, axis=0)\n",
    "                b=a[index]\n",
    "                b.to_csv('dataDivision/{}/{}/{}.csv'.format(k,j,i+1), index=False, header=False)"
   ]
  },
  {
   "cell_type": "markdown",
   "id": "d9ff4890",
   "metadata": {},
   "source": [
    "## +) 추가적인 코드\n",
    "### 데이터 길이 확인(256줄)\n",
    "- 확인차 작성한 코드(신경x)"
   ]
  },
  {
   "cell_type": "code",
   "execution_count": 25,
   "id": "be5cee0d",
   "metadata": {},
   "outputs": [
    {
     "name": "stdout",
     "output_type": "stream",
     "text": [
      "done!\n"
     ]
    }
   ],
   "source": [
    "for k in range(1,101):\n",
    "    for j in range(1,61):\n",
    "        for i in range (0,6):\n",
    "            if os.path.exists(\"dataDivision/{}/{}/{}.csv\".format(k,j,i+1)):\n",
    "                r=pd.read_csv(\"dataDivision/1/{}/{}.csv\".format(j,i+1))\n",
    "                if(len(r.index)!=255):\n",
    "                    print(len(r.index))\n",
    "print(\"done!\")\n",
    "# r=pd.read_csv(\"dataDivision/1/2/1.csv\",header=None)\n",
    "# r"
   ]
  },
  {
   "cell_type": "markdown",
   "id": "6f790e61",
   "metadata": {},
   "source": [
    "### 데이터 내용 확인\n",
    "- 데이터 내용 똑같이 저장되었는지 확인한 코드\n",
    "- false로 나타난 데이터 확인해보니 소수점이 너무 길어서 맨 끝에 숫자 1개 잘려서 false로 나타남.(많아 보이지만 다 같은 값의 데이터임)"
   ]
  },
  {
   "cell_type": "code",
   "execution_count": 45,
   "id": "a5442b59",
   "metadata": {},
   "outputs": [
    {
     "name": "stdout",
     "output_type": "stream",
     "text": [
      "false!!, 76,1,6,89\n",
      "false!!, 76,2,6,89\n",
      "false!!, 76,3,6,89\n",
      "false!!, 76,4,6,89\n",
      "false!!, 76,5,6,89\n",
      "false!!, 76,6,6,89\n",
      "false!!, 76,7,6,89\n",
      "false!!, 76,8,6,89\n",
      "false!!, 76,9,6,89\n",
      "false!!, 76,10,6,89\n",
      "false!!, 76,11,6,89\n",
      "false!!, 76,12,6,89\n",
      "false!!, 76,13,6,89\n",
      "false!!, 76,14,6,89\n",
      "false!!, 76,15,6,89\n",
      "false!!, 76,16,6,89\n",
      "false!!, 76,17,6,89\n",
      "false!!, 76,18,6,89\n",
      "false!!, 76,19,6,89\n",
      "false!!, 76,20,6,89\n",
      "false!!, 76,21,6,89\n",
      "false!!, 76,22,6,89\n",
      "false!!, 76,23,6,89\n",
      "false!!, 76,24,6,89\n",
      "false!!, 76,25,6,89\n",
      "false!!, 76,26,6,89\n",
      "false!!, 76,27,6,89\n",
      "false!!, 76,28,6,89\n",
      "false!!, 76,29,6,89\n",
      "false!!, 76,30,6,89\n",
      "false!!, 76,31,6,89\n",
      "false!!, 76,32,6,89\n",
      "false!!, 76,33,6,89\n",
      "false!!, 76,34,6,89\n",
      "false!!, 76,35,6,89\n",
      "false!!, 76,36,6,89\n",
      "false!!, 76,37,6,89\n",
      "false!!, 76,38,6,89\n",
      "false!!, 76,39,6,89\n",
      "false!!, 76,40,6,89\n",
      "false!!, 76,41,6,89\n",
      "false!!, 76,42,6,89\n",
      "false!!, 76,43,6,89\n",
      "false!!, 76,44,6,89\n",
      "false!!, 76,45,6,89\n",
      "false!!, 76,46,6,89\n",
      "false!!, 76,47,6,89\n",
      "false!!, 76,48,6,89\n",
      "false!!, 76,49,6,89\n",
      "false!!, 76,50,6,89\n",
      "false!!, 76,51,6,89\n",
      "false!!, 76,52,6,89\n",
      "false!!, 76,53,6,89\n",
      "false!!, 76,54,6,89\n",
      "false!!, 76,55,6,89\n",
      "false!!, 76,56,6,89\n",
      "false!!, 76,57,6,89\n",
      "false!!, 76,58,6,89\n",
      "false!!, 76,59,6,89\n",
      "false!!, 76,60,6,89\n",
      "done\n"
     ]
    }
   ],
   "source": [
    "for k in range(1,101):\n",
    "    df = pd.read_csv(\"BandPass/{}/{}_band.csv\".format(k,k))\n",
    "    for j in range(1,61):\n",
    "        index=str(j)\n",
    "        for i in range (0,6):\n",
    "            if os.path.exists(\"dataDivision/{}/{}/{}.csv\".format(k,j,i+1)):\n",
    "                df2 = pd.read_csv(\"dataDivision/{}/{}/{}.csv\".format(k,j,i+1),header=None)\n",
    "                num=256*i\n",
    "                a=df.truncate(before=num, after=num+255, axis=0)\n",
    "                b=a[index]\n",
    "                for l in range(0,256):\n",
    "                    arr1=b.values\n",
    "                    arr2=df2[0].values\n",
    "                    if(arr1[l]!=arr2[l]):\n",
    "                        print(f\"false!!, {k},{j},{i+1},{l}\")\n",
    "print(\"done\")"
   ]
  }
 ],
 "metadata": {
  "kernelspec": {
   "display_name": "Python 3 (ipykernel)",
   "language": "python",
   "name": "python3"
  },
  "language_info": {
   "codemirror_mode": {
    "name": "ipython",
    "version": 3
   },
   "file_extension": ".py",
   "mimetype": "text/x-python",
   "name": "python",
   "nbconvert_exporter": "python",
   "pygments_lexer": "ipython3",
   "version": "3.7.13"
  }
 },
 "nbformat": 4,
 "nbformat_minor": 5
}
